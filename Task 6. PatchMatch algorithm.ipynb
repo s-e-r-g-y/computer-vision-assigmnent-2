{
 "cells": [
  {
   "cell_type": "markdown",
   "metadata": {},
   "source": [
    "### PatchMatch is in progress"
   ]
  },
  {
   "cell_type": "code",
   "execution_count": 34,
   "metadata": {},
   "outputs": [
    {
     "name": "stdout",
     "output_type": "stream",
     "text": [
      "0.9473373889923096\n"
     ]
    }
   ],
   "source": [
    "\n",
    "def patch_match(a, b):\n",
    "    \n",
    "    np.random.seed(1000)\n",
    "    \n",
    "    box_size=7\n",
    "    \n",
    "    half_box_size = box_size // 2\n",
    "    \n",
    "    a_w, a_h = a.shape[0], a.shape[1]\n",
    "    b_w, b_h = b.shape[0], b.shape[1]\n",
    "    \n",
    "    def distance(pa, pb):\n",
    "        \n",
    "        x_s = y_s = half_box_size\n",
    "        x_e = y_e = half_box_size + 1\n",
    "        x_s = min(pa[0], pb[0], x_s)\n",
    "        x_e = min(a_w - pa[0], b_w-pb[0], x_e)\n",
    "        y_s = min(pa[1], pb[1], y_s)\n",
    "        y_e = min(a_h - pa[1], b_h-pb[1], y_e)\n",
    "        \n",
    "        return np.sum(\n",
    "            (a[pa[0]-x_s:pa[0]+x_e, pa[1]-y_s:pa[1]+y_e] - b[pb[0]-x_s:pb[0]+x_e, pb[1]-y_s:pb[1]+y_e])**2\n",
    "        ) / ((x_s + x_e) * (y_s + y_e))\n",
    "    \n",
    "    \n",
    "    def random_init():        \n",
    "        values = np.zeros((2, a_w, a_h)).astype(np.int)\n",
    "        distances = np.zeros((a_w, a_h))\n",
    "\n",
    "        values[0] = np.random.randint(b_w, size=(a_w, a_h))\n",
    "        values[1] = np.random.randint(b_h, size=(a_w, a_h))\n",
    "\n",
    "        values = values.transpose((1, 2 ,0))\n",
    "        \n",
    "        for i in range(a_w):\n",
    "            for j in range(a_h):\n",
    "                p = values[i,j]\n",
    "                distances[i,j] = distance( (i, j), (p[0], p[1]) )\n",
    "\n",
    "        return values, distances\n",
    "    \n",
    "    def iterate(num_iter = 3):\n",
    "        \n",
    "        for iteration in range(num_iter):\n",
    "            \n",
    "            pass\n",
    "    \n",
    "\n",
    "    values, distances = random_init()\n",
    "    \n",
    "    iterate()\n",
    "    \n",
    "    \n",
    "\n",
    "\n",
    "a = cv2.imread('./images/task_6/v001.jpg')\n",
    "b = cv2.imread('./images/task_6/v010.jpg')\n",
    "\n",
    "a = cv2.resize(a, (0,0), fx=0.25, fy=0.25)\n",
    "b = cv2.resize(b, (0,0), fx=0.25, fy=0.25)\n",
    "\n",
    "start = time.time()\n",
    "\n",
    "result = patch_match(a, b)\n",
    "\n",
    "\n",
    "print(time.time() - start)"
   ]
  },
  {
   "cell_type": "code",
   "execution_count": null,
   "metadata": {},
   "outputs": [],
   "source": []
  }
 ],
 "metadata": {
  "kernelspec": {
   "display_name": "Python 3",
   "language": "python",
   "name": "python3"
  },
  "language_info": {
   "codemirror_mode": {
    "name": "ipython",
    "version": 3
   },
   "file_extension": ".py",
   "mimetype": "text/x-python",
   "name": "python",
   "nbconvert_exporter": "python",
   "pygments_lexer": "ipython3",
   "version": "3.7.1"
  }
 },
 "nbformat": 4,
 "nbformat_minor": 2
}
